{
  "nbformat": 4,
  "nbformat_minor": 0,
  "metadata": {
    "colab": {
      "provenance": [],
      "authorship_tag": "ABX9TyNjKZ6JCWiAADgCRmrNZS9X",
      "include_colab_link": true
    },
    "kernelspec": {
      "name": "python3",
      "display_name": "Python 3"
    },
    "language_info": {
      "name": "python"
    }
  },
  "cells": [
    {
      "cell_type": "markdown",
      "metadata": {
        "id": "view-in-github",
        "colab_type": "text"
      },
      "source": [
        "<a href=\"https://colab.research.google.com/github/Tomytool/pythonClass/blob/main/clase_02.ipynb\" target=\"_parent\"><img src=\"https://colab.research.google.com/assets/colab-badge.svg\" alt=\"Open In Colab\"/></a>"
      ]
    },
    {
      "cell_type": "markdown",
      "source": [
        "1+1"
      ],
      "metadata": {
        "id": "iyAU1-gQoT6v"
      }
    },
    {
      "cell_type": "markdown",
      "source": [
        "# **Tipos de Variables**"
      ],
      "metadata": {
        "id": "dPFiAz5hom_W"
      }
    },
    {
      "cell_type": "markdown",
      "source": [
        "Variables numericas"
      ],
      "metadata": {
        "id": "7i5n6KIIo4_G"
      }
    },
    {
      "cell_type": "code",
      "source": [
        "numero1= 1\n",
        "numero2= 1.1\n",
        "numero3=1,1\n",
        "numeros = [numero1 , numero2, numero3]\n",
        "numeros"
      ],
      "metadata": {
        "colab": {
          "base_uri": "https://localhost:8080/"
        },
        "id": "qQ7K22xXokSK",
        "outputId": "5dcf6f7c-ff86-4027-ad7e-e4c1f5773240"
      },
      "execution_count": 3,
      "outputs": [
        {
          "output_type": "execute_result",
          "data": {
            "text/plain": [
              "[1, 1.1, (1, 1)]"
            ]
          },
          "metadata": {},
          "execution_count": 3
        }
      ]
    }
  ]
}