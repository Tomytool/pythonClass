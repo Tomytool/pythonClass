{
  "nbformat": 4,
  "nbformat_minor": 0,
  "metadata": {
    "colab": {
      "provenance": [],
      "authorship_tag": "ABX9TyM41vpgY/pqbxd6BHz35AAf",
      "include_colab_link": true
    },
    "kernelspec": {
      "name": "python3",
      "display_name": "Python 3"
    },
    "language_info": {
      "name": "python"
    }
  },
  "cells": [
    {
      "cell_type": "markdown",
      "metadata": {
        "id": "view-in-github",
        "colab_type": "text"
      },
      "source": [
        "<a href=\"https://colab.research.google.com/github/Tomytool/pythonClass/blob/main/clase_02.ipynb\" target=\"_parent\"><img src=\"https://colab.research.google.com/assets/colab-badge.svg\" alt=\"Open In Colab\"/></a>"
      ]
    },
    {
      "cell_type": "markdown",
      "source": [
        "# **Tipos de Variables**"
      ],
      "metadata": {
        "id": "dPFiAz5hom_W"
      }
    },
    {
      "cell_type": "markdown",
      "source": [
        "Variables numericas"
      ],
      "metadata": {
        "id": "7i5n6KIIo4_G"
      }
    },
    {
      "cell_type": "code",
      "source": [
        "numero1= 1\n",
        "numero2= 1.1\n",
        "numero3=1,1\n",
        "numeros = [numero1 , numero2, numero3]\n",
        "numeros"
      ],
      "metadata": {
        "colab": {
          "base_uri": "https://localhost:8080/"
        },
        "id": "qQ7K22xXokSK",
        "outputId": "5dcf6f7c-ff86-4027-ad7e-e4c1f5773240"
      },
      "execution_count": 3,
      "outputs": [
        {
          "output_type": "execute_result",
          "data": {
            "text/plain": [
              "[1, 1.1, (1, 1)]"
            ]
          },
          "metadata": {},
          "execution_count": 3
        }
      ]
    },
    {
      "cell_type": "markdown",
      "source": [
        "Variables de string"
      ],
      "metadata": {
        "id": "acdMaV9CppKz"
      }
    },
    {
      "cell_type": "code",
      "source": [
        "string1 =\"Hola\"\n",
        "string2= \"Hola\" +\" \"+ \"tomas\"\n",
        "string = [string1, string2]\n",
        "string"
      ],
      "metadata": {
        "colab": {
          "base_uri": "https://localhost:8080/"
        },
        "id": "o7IMgxuops6v",
        "outputId": "df6fac7a-28f6-48b4-8f7b-977f94922447"
      },
      "execution_count": 5,
      "outputs": [
        {
          "output_type": "execute_result",
          "data": {
            "text/plain": [
              "['Hola', 'Hola tomas']"
            ]
          },
          "metadata": {},
          "execution_count": 5
        }
      ]
    }
  ]
}